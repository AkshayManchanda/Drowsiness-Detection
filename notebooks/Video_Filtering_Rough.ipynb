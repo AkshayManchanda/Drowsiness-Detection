{
 "cells": [
  {
   "cell_type": "code",
   "execution_count": 10,
   "metadata": {},
   "outputs": [
    {
     "data": {
      "text/plain": [
       "'\\nAll packages imported successfully.\\n'"
      ]
     },
     "execution_count": 10,
     "metadata": {},
     "output_type": "execute_result"
    }
   ],
   "source": [
    "import cv2\n",
    "import imutils\n",
    "from imutils.video import VideoStream\n",
    "import dlib\n",
    "import scipy\n",
    "import argparse\n",
    "import numpy as np\n",
    "import PIL.Imag\n",
    "'''\n",
    "All packages imported successfully.\n",
    "'''"
   ]
  },
  {
   "cell_type": "markdown",
   "metadata": {},
   "source": [
    "## LAB color space\n",
    "#### L* for the lightness from black (0) to white (100), a* from green (−) to red (+), and b* from blue (−) to yellow (+)."
   ]
  },
  {
   "cell_type": "raw",
   "metadata": {},
   "source": [
    "arg = argparse.ArgumentParser()\n",
    "arg.add_argument(\"-w\", \"--webcam\", type=int, default=0,help=\"index of webcam on system\")"
   ]
  },
  {
   "cell_type": "code",
   "execution_count": null,
   "metadata": {
    "scrolled": true
   },
   "outputs": [],
   "source": [
    "# print(\"[INFO] starting video stream thread...\")\n",
    "# vs = VideoStream(src=arg[\"webcam\"]).start()\n",
    "# time.sleep(1.0)\n",
    " \n",
    "# # loop over frames from the video stream\n",
    "# while True:\n",
    "# \t# grab the frame from the threaded video file stream, resize\n",
    "# \t# it, and convert it to grayscale\n",
    "# \t# channels)\n",
    "# \tframe = vs.read()\n",
    "# \tframe = imutils.resize(frame, width=450)\n",
    "# \tgray = cv2.cvtColor(frame, cv2.COLOR_BGR2GRAY)\n",
    " \n",
    "# \t# detect faces in the grayscale frame\n",
    "# \trects = detector(gray, 0)\n",
    "    \n",
    "# cv2.imshow(\"output\",frame)\n",
    "# cv2.waitKey(0)\n",
    "# cv2.destroyWindow('img')"
   ]
  },
  {
   "cell_type": "code",
   "execution_count": 25,
   "metadata": {},
   "outputs": [],
   "source": [
    "cap = cv2.VideoCapture(0)\n",
    "\n",
    "while(True):\n",
    "    # Capture frame-by-frame\n",
    "    ret, frame = cap.read()\n",
    "\n",
    "    # Our operations on the frame come here\n",
    "    gray = cv2.cvtColor(frame, cv2.COLOR_BGR2GRAY)\n",
    "\n",
    "    # Display the resulting frame\n",
    "    cv2.imshow('frame',gray)\n",
    "    if cv2.waitKey(1) & 0xFF == ord('q'):\n",
    "        break\n",
    "\n",
    "# When everything done, release the capture\n",
    "cap.release()\n",
    "cv2.destroyWindow('frame')"
   ]
  },
  {
   "cell_type": "markdown",
   "metadata": {},
   "source": [
    "#### Processing image filtering and contrast on video frames"
   ]
  },
  {
   "cell_type": "code",
   "execution_count": 60,
   "metadata": {},
   "outputs": [],
   "source": [
    "cap = cv2.VideoCapture(0)\n",
    "\n",
    "while(True):\n",
    "    # Capture frame-by-frame\n",
    "    ret, frame = cap.read()\n",
    "\n",
    "    # Our operations on the frame come here\n",
    "#     lab = cv2.cvtColor(frame,cv2.COLOR_BGR2LAB)\n",
    "#     l,a,b = cv2.split(lab)\n",
    "#     clahe = cv2.createCLAHE(clipLimit=3.0, tileGridSize=(12,12))\n",
    "#     cl = clahe.apply(l)\n",
    "#     limg = cv2.merge((cl,a,b))\n",
    "#     final = cv2.cvtColor(limg, cv2.COLOR_LAB2BGR)\n",
    "# #     Try median filtering to remove noise\n",
    "#     final = cv2.medianBlur(final,3)\n",
    "    final  = light_remover(frame)\n",
    "    \n",
    "    # Display the resulting frame\n",
    "    cv2.imshow('frame',final)\n",
    "    if cv2.waitKey(1) & 0xFF == ord('q'):\n",
    "        break\n",
    "\n",
    "# When everything done, release the capture\n",
    "cap.release()\n",
    "cv2.destroyWindow('frame')"
   ]
  },
  {
   "cell_type": "markdown",
   "metadata": {},
   "source": [
    "### Remove lighting from background to get clear face image"
   ]
  },
  {
   "cell_type": "code",
   "execution_count": 59,
   "metadata": {},
   "outputs": [],
   "source": [
    "def light_remover(frame):\n",
    "    gray = cv2.cvtColor(frame, cv2.COLOR_BGR2GRAY)\n",
    "    lab =  cv2.cvtColor(frame, cv2.COLOR_BGR2LAB)\n",
    "#     L = lab[:,:,0]\n",
    "    l,a,b = cv2.split(lab)\n",
    "    clahe = cv2.createCLAHE(clipLimit=3.0, tileGridSize=(12,12))\n",
    "    cl = clahe.apply(l)\n",
    "#     lab = cv2.merge((cl,a,b))\n",
    "    # invert the image lighting\n",
    "    Medianblur = cv2.medianBlur(cl,99)\n",
    "    invertedL = cv2.bitwise_not(Medianblur)\n",
    "    composed = cv2.addWeighted(gray,0.75,invertedL,0.25,0)\n",
    "    return composed\n",
    "    "
   ]
  },
  {
   "cell_type": "code",
   "execution_count": 54,
   "metadata": {},
   "outputs": [],
   "source": [
    "cap.release()"
   ]
  },
  {
   "cell_type": "code",
   "execution_count": null,
   "metadata": {},
   "outputs": [],
   "source": []
  }
 ],
 "metadata": {
  "kernelspec": {
   "display_name": "Python 3",
   "language": "python",
   "name": "python3"
  },
  "language_info": {
   "codemirror_mode": {
    "name": "ipython",
    "version": 3
   },
   "file_extension": ".py",
   "mimetype": "text/x-python",
   "name": "python",
   "nbconvert_exporter": "python",
   "pygments_lexer": "ipython3",
   "version": "3.7.4"
  }
 },
 "nbformat": 4,
 "nbformat_minor": 2
}
