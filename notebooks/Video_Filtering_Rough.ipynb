{
 "cells": [
  {
   "cell_type": "code",
   "execution_count": 22,
   "metadata": {},
   "outputs": [
    {
     "data": {
      "text/plain": [
       "'\\nAll packages imported successfully.\\n'"
      ]
     },
     "execution_count": 22,
     "metadata": {},
     "output_type": "execute_result"
    }
   ],
   "source": [
    "import cv2\n",
    "import imutils\n",
    "# from imutils.video import VideoStream\n",
    "import dlib\n",
    "import scipy\n",
    "import numpy as np\n",
    "'''\n",
    "All packages imported successfully.\n",
    "'''"
   ]
  },
  {
   "cell_type": "markdown",
   "metadata": {},
   "source": [
    "## LAB color space\n",
    "#### L* for the lightness from black (0) to white (100), a* from green (−) to red (+), and b* from blue (−) to yellow (+)."
   ]
  },
  {
   "cell_type": "raw",
   "metadata": {},
   "source": [
    "arg = argparse.ArgumentParser()\n",
    "arg.add_argument(\"-w\", \"--webcam\", type=int, default=0,help=\"index of webcam on system\")"
   ]
  },
  {
   "cell_type": "code",
   "execution_count": 4,
   "metadata": {
    "scrolled": true
   },
   "outputs": [],
   "source": [
    "# print(\"[INFO] starting video stream thread...\")\n",
    "# vs = VideoStream(src=arg[\"webcam\"]).start()\n",
    "# time.sleep(1.0)\n",
    " \n",
    "# # loop over frames from the video stream\n",
    "# while True:\n",
    "# \t# grab the frame from the threaded video file stream, resize\n",
    "# \t# it, and convert it to grayscale\n",
    "# \t# channels)\n",
    "# \tframe = vs.read()\n",
    "# \tframe = imutils.resize(frame, width=450)\n",
    "# \tgray = cv2.cvtColor(frame, cv2.COLOR_BGR2GRAY)\n",
    " \n",
    "# \t# detect faces in the grayscale frame\n",
    "# \trects = detector(gray, 0)\n",
    "    \n",
    "# cv2.imshow(\"output\",frame)\n",
    "# cv2.waitKey(0)\n",
    "# cv2.destroyWindow('img')"
   ]
  },
  {
   "cell_type": "code",
   "execution_count": 23,
   "metadata": {},
   "outputs": [],
   "source": [
    "cap = cv2.VideoCapture(0)\n",
    "\n",
    "while(True):\n",
    "    # Capture frame-by-frame\n",
    "    ret, frame = cap.read()\n",
    "\n",
    "    # Our operations on the frame come here\n",
    "    gray = cv2.cvtColor(frame, cv2.COLOR_BGR2GRAY)\n",
    "\n",
    "    # Display the resulting frame\n",
    "    cv2.imshow('frame',gray)\n",
    "    if cv2.waitKey(1) & 0xFF == ord('q'):\n",
    "        break\n",
    "\n",
    "# When everything done, release the capture\n",
    "cap.release()\n",
    "cv2.destroyWindow('frame')"
   ]
  },
  {
   "cell_type": "markdown",
   "metadata": {},
   "source": [
    "#### Processing image filtering and contrast on video frames"
   ]
  },
  {
   "cell_type": "markdown",
   "metadata": {},
   "source": [
    "### Remove lighting from background to get clear face image"
   ]
  },
  {
   "cell_type": "code",
   "execution_count": 24,
   "metadata": {},
   "outputs": [],
   "source": [
    "def light_remover(frame):\n",
    "    gray = cv2.cvtColor(frame, cv2.COLOR_BGR2GRAY)\n",
    "    lab =  cv2.cvtColor(frame, cv2.COLOR_BGR2LAB)\n",
    "    L = lab[:,:,0]\n",
    "#     l,a,b = cv2.split(lab)\n",
    "    # Apply CLAHE technique to improve contrast\n",
    "#     clahe = cv2.createCLAHE(clipLimit=3.0, tileGridSize=(12,12))\n",
    "#     cl = clahe.apply(l)\n",
    "    # median blur to remove salt and pepper noise\n",
    "#     l = cv2.medianBlur(l,99)\n",
    "#     lab = cv2.merge((cl,a,b)) # merge the CLAHE applied 'L' property \n",
    "    composed = cv2.cvtColor(lab,cv2.COLOR_LAB2BGR)\n",
    "    # invert the image lighting\n",
    "    Medianblur = cv2.medianBlur(L,99)\n",
    "    invertedL = cv2.bitwise_not(Medianblur)\n",
    "    composed = cv2.addWeighted(gray,0.80,invertedL,0.20,0)\n",
    "    return composed\n",
    "    "
   ]
  },
  {
   "cell_type": "code",
   "execution_count": 25,
   "metadata": {},
   "outputs": [],
   "source": [
    "cap = cv2.VideoCapture(0)\n",
    "\n",
    "while(True):\n",
    "    # Capture frame-by-frame\n",
    "    ret, frame = cap.read()\n",
    "\n",
    "    # Our operations on the frame come here\n",
    "#     lab = cv2.cvtColor(frame,cv2.COLOR_BGR2LAB)\n",
    "#     l,a,b = cv2.split(lab)\n",
    "#     clahe = cv2.createCLAHE(clipLimit=3.0, tileGridSize=(12,12))\n",
    "#     cl = clahe.apply(l)\n",
    "#     limg = cv2.merge((cl,a,b))\n",
    "#     final = cv2.cvtColor(limg, cv2.COLOR_LAB2BGR)\n",
    "# #     Try median filtering to remove noise\n",
    "#     final = cv2.medianBlur(final,3)\n",
    "    final  = light_remover(frame)\n",
    "    \n",
    "    # Display the resulting frame\n",
    "    cv2.imshow('frame',final)\n",
    "    if cv2.waitKey(1) & 0xFF == ord('q'):\n",
    "        break\n",
    "\n",
    "# When everything done, release the capture\n",
    "cap.release()\n",
    "cv2.destroyWindow('frame')"
   ]
  },
  {
   "cell_type": "code",
   "execution_count": 16,
   "metadata": {},
   "outputs": [],
   "source": [
    "cap.release()"
   ]
  },
  {
   "cell_type": "markdown",
   "metadata": {},
   "source": [
    "### Using Thread based WebcamVideoStream object of imutils to improve performance"
   ]
  },
  {
   "cell_type": "code",
   "execution_count": 22,
   "metadata": {},
   "outputs": [
    {
     "name": "stdout",
     "output_type": "stream",
     "text": [
      "Starting Video stream...\n",
      "[INFO] approx. FPS: 7.23\n"
     ]
    }
   ],
   "source": [
    "from imutils.video import WebcamVideoStream\n",
    "from imutils.video import FPS\n",
    "import cv2\n",
    "import time\n",
    "\n",
    "print(\"Starting Video stream...\")\n",
    "# vs = VideoStream(resolution=(640, 480), framerate=32).start()\n",
    "vs = WebcamVideoStream().start()\n",
    "time.sleep(1.0)\n",
    "# Start FPS timer\n",
    "fps = FPS().start()\n",
    "\n",
    "while True:\n",
    "    frame = vs.read()\n",
    "    final = light_remover(frame)\n",
    "\n",
    "    cv2.imshow(\"frame\", final)\n",
    "    if cv2.waitKey(1) & 0xFF == ord('q'):\n",
    "        break\n",
    "    fps.update()\n",
    "\n",
    "fps.stop()\n",
    "print(\"[INFO] approx. FPS: {:.2f}\".format(fps.fps()))\n",
    "vs.stream.release()\n",
    "vs.stop()\n",
    "cv2.destroyWindow('frame')\n"
   ]
  },
  {
   "cell_type": "markdown",
   "metadata": {},
   "source": [
    "# Frustrated attempt.. Pycharm execution gives 30fps approx."
   ]
  },
  {
   "cell_type": "code",
   "execution_count": 23,
   "metadata": {},
   "outputs": [
    {
     "name": "stdout",
     "output_type": "stream",
     "text": [
      "[INFO] approx. FPS: 6.86\n"
     ]
    }
   ],
   "source": [
    "from imutils.video import FileVideoStream\n",
    "from imutils.video import FPS\n",
    "import numpy as np\n",
    "import imutils\n",
    "import time\n",
    "import cv2\n",
    "\n",
    "\n",
    "def light_remover(frame):\n",
    "    # gray = cv2.cvtColor(frame, cv2.COLOR_BGR2GRAY)\n",
    "    lab = cv2.cvtColor(frame, cv2.COLOR_BGR2LAB)\n",
    "    #     L = lab[:,:,0]\n",
    "    l, a, b = cv2.split(lab)\n",
    "    # Apply CLAHE technique to improve contrast\n",
    "    clahe = cv2.createCLAHE(clipLimit=3.0, tileGridSize=(12, 12))\n",
    "    cl = clahe.apply(l)\n",
    "    # median blur to remove salt and pepper noise\n",
    "    l = cv2.medianBlur(l, 99)\n",
    "    lab = cv2.merge((cl, a, b))  # merge the CLAHE applied 'L' property\n",
    "    composed = cv2.cvtColor(lab, cv2.COLOR_LAB2BGR)\n",
    "    # invert the image lighting\n",
    "    #     Medianblur = cv2.medianBlur(L,99)\n",
    "    #     invertedL = cv2.bitwise_not(Medianblur)\n",
    "    #     composed = cv2.addWeighted(gray,0.80,invertedL,0.20,0)\n",
    "    return composed\n",
    "\n",
    "\n",
    "vs = FileVideoStream(0).start()\n",
    "time.sleep(1.0)\n",
    "# Start FPS Timer\n",
    "fps = FPS().start()\n",
    "\n",
    "while True:\n",
    "\n",
    "    Frame = vs.read()\n",
    "#     process the frame and store it in the final stack\n",
    "    final = np.dstack([light_remover(Frame)])\n",
    "    # final = cv2.cvtColor(final, cv2.COLOR_BGR2GRAY)\n",
    "    final = np.dstack([final])\n",
    "#     print(final.shape)\n",
    "    cv2.imshow(\"Frame\", final)\n",
    "    if cv2.waitKey(1) & 0xFF == ord('q'):\n",
    "        break\n",
    "    fps.update()\n",
    "\n",
    "\n",
    "fps.stop()\n",
    "print(\"[INFO] approx. FPS: {:.2f}\".format(fps.fps()))\n",
    "cv2.destroyWindow('frame')\n",
    "vs.stop()\n"
   ]
  },
  {
   "cell_type": "markdown",
   "metadata": {},
   "source": [
    "Anaconda `[INFO] approx. FPS: 6.58`\n",
    "\n",
    "#### Execution from PyCharm\n",
    "C:\\Users\\Amit\\Anaconda3\\envs\\Driver_Alert_Drowsiness_Yawn\\python.exe `C:/Users/Amit/PycharmProjects/Driver_Alert_Drowsiness_Yawn/Process_Webcam_Thread.py` [INFO] approx. `FPS: 30.54`"
   ]
  },
  {
   "cell_type": "code",
   "execution_count": null,
   "metadata": {},
   "outputs": [],
   "source": []
  }
 ],
 "metadata": {
  "kernelspec": {
   "display_name": "Python 3",
   "language": "python",
   "name": "python3"
  },
  "language_info": {
   "codemirror_mode": {
    "name": "ipython",
    "version": 3
   },
   "file_extension": ".py",
   "mimetype": "text/x-python",
   "name": "python",
   "nbconvert_exporter": "python",
   "pygments_lexer": "ipython3",
   "version": "3.7.4"
  }
 },
 "nbformat": 4,
 "nbformat_minor": 2
}
